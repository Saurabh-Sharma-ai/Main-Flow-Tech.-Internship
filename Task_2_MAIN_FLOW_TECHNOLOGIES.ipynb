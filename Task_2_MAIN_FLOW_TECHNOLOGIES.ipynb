{
 "cells": [
  {
   "cell_type": "code",
   "execution_count": 2,
   "id": "2c1f5df2",
   "metadata": {},
   "outputs": [],
   "source": [
    "import pandas as pd\n",
    "\n"
   ]
  },
  {
   "cell_type": "code",
   "execution_count": 3,
   "id": "6eba4130",
   "metadata": {},
   "outputs": [],
   "source": [
    "# Load the CSV file into a Pandas DataFrame\n",
    "\n",
    "df = pd.read_csv('01.Data Cleaning and Preprocessing.csv')\n",
    "\n"
   ]
  },
  {
   "cell_type": "code",
   "execution_count": 4,
   "id": "fae2b5da",
   "metadata": {},
   "outputs": [
    {
     "name": "stdout",
     "output_type": "stream",
     "text": [
      "Original DataFrame:\n",
      "  Observation  Y-Kappa  ChipRate  BF-CMratio  BlowFlow  ChipLevel4   \\\n",
      "0    31-00:00    23.10    16.520     121.717  1177.607      169.805   \n",
      "1    31-01:00    27.60    16.810      79.022  1328.360      341.327   \n",
      "2    31-02:00    23.19    16.709      79.562  1329.407      239.161   \n",
      "3    31-03:00    23.60    16.478      81.011  1334.877      213.527   \n",
      "4    31-04:00    22.90    15.618      93.244  1334.168      243.131   \n",
      "\n",
      "   T-upperExt-2   T-lowerExt-2    UCZAA  WhiteFlow-4   ...  SteamFlow-4   \\\n",
      "0        358.282         329.545  1.443       599.253  ...        67.122   \n",
      "1        351.050         329.067  1.549       537.201  ...        60.012   \n",
      "2        350.022         329.260  1.600       549.611  ...        61.304   \n",
      "3        350.938         331.142  1.604       623.362  ...        68.496   \n",
      "4        351.640         332.709    NaN       638.672  ...        70.022   \n",
      "\n",
      "   Lower-HeatT-3  Upper-HeatT-3   ChipMass-4   WeakLiquorF   BlackFlow-2   \\\n",
      "0        329.432         303.099      175.964      1127.197      1319.039   \n",
      "1        330.823         304.879      163.202       665.975      1297.317   \n",
      "2        329.140         303.383      164.013       677.534      1327.072   \n",
      "3        328.875         302.254      181.487       767.853      1324.461   \n",
      "4        328.352         300.954      183.929       888.448      1343.424   \n",
      "\n",
      "   WeakWashF   SteamHeatF-3   T-Top-Chips-4   SulphidityL-4   \n",
      "0     257.325         54.612         252.077             NaN  \n",
      "1     241.182         46.603         251.406           29.11  \n",
      "2     237.272         51.795         251.335             NaN  \n",
      "3     239.478         54.846         250.312           29.02  \n",
      "4     215.372         54.186         249.916           29.01  \n",
      "\n",
      "[5 rows x 23 columns]\n"
     ]
    }
   ],
   "source": [
    "# Display the first few rows of the DataFrame\n",
    "print(\"Original DataFrame:\")\n",
    "print(df.head())\n",
    "\n"
   ]
  },
  {
   "cell_type": "code",
   "execution_count": 5,
   "id": "c849ae36",
   "metadata": {},
   "outputs": [
    {
     "name": "stdout",
     "output_type": "stream",
     "text": [
      "Column Names:\n",
      "Index(['Observation', 'Y-Kappa', 'ChipRate', 'BF-CMratio', 'BlowFlow',\n",
      "       'ChipLevel4 ', 'T-upperExt-2 ', 'T-lowerExt-2  ', 'UCZAA',\n",
      "       'WhiteFlow-4 ', 'AAWhiteSt-4 ', 'AA-Wood-4  ', 'ChipMoisture-4 ',\n",
      "       'SteamFlow-4 ', 'Lower-HeatT-3', 'Upper-HeatT-3 ', 'ChipMass-4 ',\n",
      "       'WeakLiquorF ', 'BlackFlow-2 ', 'WeakWashF ', 'SteamHeatF-3 ',\n",
      "       'T-Top-Chips-4 ', 'SulphidityL-4 '],\n",
      "      dtype='object')\n"
     ]
    }
   ],
   "source": [
    "# Print the column names to identify the correct column for filtering\n",
    "print(\"Column Names:\")\n",
    "print(df.columns)\n",
    "\n"
   ]
  },
  {
   "cell_type": "code",
   "execution_count": 6,
   "id": "b933a4aa",
   "metadata": {},
   "outputs": [
    {
     "name": "stdout",
     "output_type": "stream",
     "text": [
      "\n",
      "No 'Price' column found for filtering.\n"
     ]
    }
   ],
   "source": [
    "# Example: Let's assume there is a column named 'Price' for filtering. Replace 'Price' with the correct column if different.\n",
    "# Filtering data based on a condition (e.g., 'Price' > 30)\n",
    "if 'Price' in df.columns:\n",
    "    filtered_df = df[df['Price'] > 30]\n",
    "    print(\"\\nFiltered DataFrame (Price > 30):\")\n",
    "    print(filtered_df.head())\n",
    "else:\n",
    "    print(\"\\nNo 'Price' column found for filtering.\")\n",
    "\n"
   ]
  },
  {
   "cell_type": "code",
   "execution_count": 7,
   "id": "a6ab3963",
   "metadata": {},
   "outputs": [
    {
     "name": "stdout",
     "output_type": "stream",
     "text": [
      "\n",
      "DataFrame after dropping missing values:\n",
      "  Observation  Y-Kappa  ChipRate  BF-CMratio  BlowFlow  ChipLevel4   \\\n",
      "1    31-01:00    27.60    16.810      79.022  1328.360      341.327   \n",
      "3    31-03:00    23.60    16.478      81.011  1334.877      213.527   \n",
      "5     1-08:00    14.23    15.350      85.518  1171.604      198.538   \n",
      "7    31-06:00    22.65    14.100      91.887  1307.852      288.989   \n",
      "9    31-08:00    24.70    13.850      96.208  1334.892      362.511   \n",
      "\n",
      "   T-upperExt-2   T-lowerExt-2    UCZAA  WhiteFlow-4   ...  SteamFlow-4   \\\n",
      "1        351.050         329.067  1.549       537.201  ...        60.012   \n",
      "3        350.938         331.142  1.604       623.362  ...        68.496   \n",
      "5        344.014         325.195  1.436       628.245  ...        65.225   \n",
      "7        352.321         331.162  1.468       625.549  ...        71.298   \n",
      "9        352.372         327.358  1.515       553.172  ...        64.249   \n",
      "\n",
      "   Lower-HeatT-3  Upper-HeatT-3   ChipMass-4   WeakLiquorF   BlackFlow-2   \\\n",
      "1        330.823         304.879      163.202       665.975      1297.317   \n",
      "3        328.875         302.254      181.487       767.853      1324.461   \n",
      "5        322.103         298.517      165.814       826.243       907.641   \n",
      "7        329.662         301.539      179.886       837.178      1315.111   \n",
      "9        332.264         305.419      166.120       909.810      1318.725   \n",
      "\n",
      "   WeakWashF   SteamHeatF-3   T-Top-Chips-4   SulphidityL-4   \n",
      "1     241.182         46.603         251.406           29.11  \n",
      "3     239.478         54.846         250.312           29.02  \n",
      "5     595.875         52.807         249.580           30.34  \n",
      "7     234.047         53.805         249.971           29.22  \n",
      "9     180.375         48.842         251.121           29.21  \n",
      "\n",
      "[5 rows x 23 columns]\n"
     ]
    }
   ],
   "source": [
    "# Handling missing values\n",
    "# Option 1: Remove rows with missing values\n",
    "df_cleaned = df.dropna()\n",
    "print(\"\\nDataFrame after dropping missing values:\")\n",
    "print(df_cleaned.head())\n",
    "\n",
    "\n"
   ]
  },
  {
   "cell_type": "code",
   "execution_count": 8,
   "id": "17f620ec",
   "metadata": {},
   "outputs": [
    {
     "name": "stdout",
     "output_type": "stream",
     "text": [
      "\n",
      "DataFrame after filling missing values with 0:\n",
      "  Observation  Y-Kappa  ChipRate  BF-CMratio  BlowFlow  ChipLevel4   \\\n",
      "0    31-00:00    23.10    16.520     121.717  1177.607      169.805   \n",
      "1    31-01:00    27.60    16.810      79.022  1328.360      341.327   \n",
      "2    31-02:00    23.19    16.709      79.562  1329.407      239.161   \n",
      "3    31-03:00    23.60    16.478      81.011  1334.877      213.527   \n",
      "4    31-04:00    22.90    15.618      93.244  1334.168      243.131   \n",
      "\n",
      "   T-upperExt-2   T-lowerExt-2    UCZAA  WhiteFlow-4   ...  SteamFlow-4   \\\n",
      "0        358.282         329.545  1.443       599.253  ...        67.122   \n",
      "1        351.050         329.067  1.549       537.201  ...        60.012   \n",
      "2        350.022         329.260  1.600       549.611  ...        61.304   \n",
      "3        350.938         331.142  1.604       623.362  ...        68.496   \n",
      "4        351.640         332.709  0.000       638.672  ...        70.022   \n",
      "\n",
      "   Lower-HeatT-3  Upper-HeatT-3   ChipMass-4   WeakLiquorF   BlackFlow-2   \\\n",
      "0        329.432         303.099      175.964      1127.197      1319.039   \n",
      "1        330.823         304.879      163.202       665.975      1297.317   \n",
      "2        329.140         303.383      164.013       677.534      1327.072   \n",
      "3        328.875         302.254      181.487       767.853      1324.461   \n",
      "4        328.352         300.954      183.929       888.448      1343.424   \n",
      "\n",
      "   WeakWashF   SteamHeatF-3   T-Top-Chips-4   SulphidityL-4   \n",
      "0     257.325         54.612         252.077            0.00  \n",
      "1     241.182         46.603         251.406           29.11  \n",
      "2     237.272         51.795         251.335            0.00  \n",
      "3     239.478         54.846         250.312           29.02  \n",
      "4     215.372         54.186         249.916           29.01  \n",
      "\n",
      "[5 rows x 23 columns]\n"
     ]
    }
   ],
   "source": [
    "# Option 2: Fill missing values with a specific value (e.g., 0)\n",
    "df_filled = df.fillna(0)\n",
    "print(\"\\nDataFrame after filling missing values with 0:\")\n",
    "print(df_filled.head())\n",
    "\n",
    "\n"
   ]
  },
  {
   "cell_type": "code",
   "execution_count": 9,
   "id": "8d136597",
   "metadata": {},
   "outputs": [
    {
     "name": "stdout",
     "output_type": "stream",
     "text": [
      "\n",
      "Summary Statistics:\n",
      "          Y-Kappa    ChipRate  BF-CMratio     BlowFlow  ChipLevel4   \\\n",
      "count  324.000000  319.000000  307.000000   308.000000   323.000000   \n",
      "mean    20.635370   14.347937   87.464456  1237.837614   258.164483   \n",
      "std      3.070036    1.499095    7.995012   100.593735    87.987452   \n",
      "min     12.170000    9.983000   68.645000     0.000000     0.000000   \n",
      "25%     18.382500   13.358000   81.823000  1193.215250   213.527000   \n",
      "50%     20.845000   14.308000   86.739000  1273.138500   271.792000   \n",
      "75%     23.032500   15.517000   92.372000  1289.196000   321.680000   \n",
      "max     27.600000   16.958000  121.717000  1351.240000   419.014000   \n",
      "\n",
      "       T-upperExt-2   T-lowerExt-2         UCZAA  WhiteFlow-4   AAWhiteSt-4   \\\n",
      "count     322.000000      322.000000  299.000000    323.000000    173.000000   \n",
      "mean      356.904295      324.020180    1.492010    591.732260      6.140410   \n",
      "std         9.209290        7.621402    0.105923     67.016351      0.081609   \n",
      "min       339.168000      284.633000    1.182000    405.111000      5.890000   \n",
      "25%       350.241250      321.420000    1.431500    540.989500      6.089000   \n",
      "50%       356.843000      325.669000    1.498000    592.895000      6.135000   \n",
      "75%       362.242250      329.175000    1.560500    639.480500      6.199000   \n",
      "max       399.135000      337.012000    1.747000    731.394000      6.340000   \n",
      "\n",
      "       ...  SteamFlow-4   Lower-HeatT-3  Upper-HeatT-3   ChipMass-4   \\\n",
      "count  ...    323.000000     322.000000      322.000000   323.000000   \n",
      "mean   ...     66.668285     325.567820      300.525699   162.222322   \n",
      "std    ...      5.708587       4.609862        4.568484    14.160688   \n",
      "min    ...     48.568000     318.051000      293.312000   113.922000   \n",
      "25%    ...     62.518000     321.385500      296.513250   153.032500   \n",
      "50%    ...     67.429000     324.741000      299.126000   163.690000   \n",
      "75%    ...     71.522000     329.845250      304.244750   172.555000   \n",
      "max    ...     76.147000     333.854000      311.146000   189.268000   \n",
      "\n",
      "       WeakLiquorF   BlackFlow-2   WeakWashF   SteamHeatF-3   T-Top-Chips-4   \\\n",
      "count    323.000000    322.000000  323.000000     322.000000      323.000000   \n",
      "mean     873.828941   1175.917016  263.543068      49.696907      251.240087   \n",
      "std      122.073521    149.334010  163.666942       4.551909        1.283432   \n",
      "min      486.938000    838.948000    0.000000      35.510000      248.359000   \n",
      "25%      792.019500   1044.817500  134.649000      46.389750      250.312000   \n",
      "50%      865.254000   1150.221500  269.193000      50.277000      251.380000   \n",
      "75%      965.286500   1319.021250  405.563000      53.294250      252.323500   \n",
      "max     1226.277000   1395.767000  715.715000      63.332000      254.122000   \n",
      "\n",
      "       SulphidityL-4   \n",
      "count      173.000000  \n",
      "mean        30.411671  \n",
      "std          0.701317  \n",
      "min         29.010000  \n",
      "25%         29.970000  \n",
      "50%         30.370000  \n",
      "75%         30.820000  \n",
      "max         32.840000  \n",
      "\n",
      "[8 rows x 22 columns]\n"
     ]
    }
   ],
   "source": [
    "# Calculating summary statistics\n",
    "summary_stats = df.describe()\n",
    "print(\"\\nSummary Statistics:\")\n",
    "print(summary_stats)\n",
    "\n"
   ]
  },
  {
   "cell_type": "code",
   "execution_count": null,
   "id": "1caa51b8",
   "metadata": {},
   "outputs": [],
   "source": []
  },
  {
   "cell_type": "code",
   "execution_count": null,
   "id": "26a3ef77",
   "metadata": {},
   "outputs": [],
   "source": []
  },
  {
   "cell_type": "code",
   "execution_count": null,
   "id": "08caa59c",
   "metadata": {},
   "outputs": [],
   "source": []
  },
  {
   "cell_type": "code",
   "execution_count": null,
   "id": "9584ffe2",
   "metadata": {},
   "outputs": [],
   "source": []
  },
  {
   "cell_type": "code",
   "execution_count": null,
   "id": "63d53740",
   "metadata": {},
   "outputs": [],
   "source": []
  },
  {
   "cell_type": "code",
   "execution_count": null,
   "id": "57d214d5",
   "metadata": {},
   "outputs": [],
   "source": []
  },
  {
   "cell_type": "code",
   "execution_count": null,
   "id": "ffad723a",
   "metadata": {},
   "outputs": [],
   "source": []
  },
  {
   "cell_type": "code",
   "execution_count": null,
   "id": "ab93dc6d",
   "metadata": {},
   "outputs": [],
   "source": []
  },
  {
   "cell_type": "code",
   "execution_count": null,
   "id": "f4ca4c07",
   "metadata": {},
   "outputs": [],
   "source": []
  },
  {
   "cell_type": "code",
   "execution_count": null,
   "id": "3d9705e0",
   "metadata": {},
   "outputs": [],
   "source": []
  },
  {
   "cell_type": "code",
   "execution_count": null,
   "id": "521c7bca",
   "metadata": {},
   "outputs": [],
   "source": []
  },
  {
   "cell_type": "code",
   "execution_count": null,
   "id": "60c09760",
   "metadata": {},
   "outputs": [],
   "source": []
  },
  {
   "cell_type": "code",
   "execution_count": null,
   "id": "8c3bb3ff",
   "metadata": {},
   "outputs": [],
   "source": []
  },
  {
   "cell_type": "code",
   "execution_count": null,
   "id": "9f0ce164",
   "metadata": {},
   "outputs": [],
   "source": []
  },
  {
   "cell_type": "code",
   "execution_count": null,
   "id": "b9594288",
   "metadata": {},
   "outputs": [],
   "source": []
  },
  {
   "cell_type": "code",
   "execution_count": null,
   "id": "e3eb9537",
   "metadata": {},
   "outputs": [],
   "source": []
  },
  {
   "cell_type": "code",
   "execution_count": null,
   "id": "ec30bce2",
   "metadata": {},
   "outputs": [],
   "source": []
  },
  {
   "cell_type": "code",
   "execution_count": null,
   "id": "c0bee233",
   "metadata": {},
   "outputs": [],
   "source": []
  },
  {
   "cell_type": "code",
   "execution_count": null,
   "id": "6a366a83",
   "metadata": {},
   "outputs": [],
   "source": []
  },
  {
   "cell_type": "code",
   "execution_count": null,
   "id": "0ffdfe0f",
   "metadata": {},
   "outputs": [],
   "source": []
  },
  {
   "cell_type": "code",
   "execution_count": null,
   "id": "070f8487",
   "metadata": {},
   "outputs": [],
   "source": []
  },
  {
   "cell_type": "code",
   "execution_count": null,
   "id": "a7cd12b6",
   "metadata": {},
   "outputs": [],
   "source": []
  },
  {
   "cell_type": "code",
   "execution_count": null,
   "id": "8bf9938a",
   "metadata": {},
   "outputs": [],
   "source": []
  }
 ],
 "metadata": {
  "kernelspec": {
   "display_name": "Python 3 (ipykernel)",
   "language": "python",
   "name": "python3"
  },
  "language_info": {
   "codemirror_mode": {
    "name": "ipython",
    "version": 3
   },
   "file_extension": ".py",
   "mimetype": "text/x-python",
   "name": "python",
   "nbconvert_exporter": "python",
   "pygments_lexer": "ipython3",
   "version": "3.11.5"
  }
 },
 "nbformat": 4,
 "nbformat_minor": 5
}

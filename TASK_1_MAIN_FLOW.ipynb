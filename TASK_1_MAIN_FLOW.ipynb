{
 "cells": [
  {
   "cell_type": "markdown",
   "id": "0fa69109",
   "metadata": {},
   "source": [
    "TASK-1 MAIN FLOW TECHNOLOGIES AND SERVICES"
   ]
  },
  {
   "cell_type": "code",
   "execution_count": 1,
   "id": "5bf2429c",
   "metadata": {},
   "outputs": [
    {
     "name": "stdout",
     "output_type": "stream",
     "text": [
      "Original List: [1, 2, 3, 4, 5]\n"
     ]
    }
   ],
   "source": [
    "# Creating a List\n",
    "my_list = [1, 2, 3, 4, 5]\n",
    "print(\"Original List:\", my_list)\n",
    "\n"
   ]
  },
  {
   "cell_type": "code",
   "execution_count": 2,
   "id": "85de6f4a",
   "metadata": {},
   "outputs": [
    {
     "name": "stdout",
     "output_type": "stream",
     "text": [
      "List after adding an element: [1, 2, 3, 4, 5, 6]\n"
     ]
    }
   ],
   "source": [
    "# Adding an element to the list\n",
    "my_list.append(6)\n",
    "print(\"List after adding an element:\", my_list)\n",
    "\n"
   ]
  },
  {
   "cell_type": "code",
   "execution_count": 3,
   "id": "b7e234bd",
   "metadata": {},
   "outputs": [
    {
     "name": "stdout",
     "output_type": "stream",
     "text": [
      "List after removing an element: [1, 2, 4, 5, 6]\n"
     ]
    }
   ],
   "source": [
    "# Removing an element from the list\n",
    "my_list.remove(3)\n",
    "print(\"List after removing an element:\", my_list)\n",
    "\n"
   ]
  },
  {
   "cell_type": "code",
   "execution_count": 4,
   "id": "f85b14ae",
   "metadata": {},
   "outputs": [
    {
     "name": "stdout",
     "output_type": "stream",
     "text": [
      "List after modifying an element: [1, 2, 10, 5, 6]\n"
     ]
    }
   ],
   "source": [
    "# Modifying an element in the list\n",
    "my_list[2] = 10\n",
    "print(\"List after modifying an element:\", my_list)\n",
    "\n",
    "\n"
   ]
  },
  {
   "cell_type": "code",
   "execution_count": 5,
   "id": "f26bf3b4",
   "metadata": {},
   "outputs": [
    {
     "name": "stdout",
     "output_type": "stream",
     "text": [
      "\n",
      "Original Dictionary: {'name': 'John', 'age': 25, 'city': 'New York'}\n"
     ]
    }
   ],
   "source": [
    "# Creating a Dictionary\n",
    "my_dict = {'name': 'John', 'age': 25, 'city': 'New York'}\n",
    "print(\"\\nOriginal Dictionary:\", my_dict)\n",
    "\n"
   ]
  },
  {
   "cell_type": "code",
   "execution_count": 6,
   "id": "71e49a6b",
   "metadata": {},
   "outputs": [
    {
     "name": "stdout",
     "output_type": "stream",
     "text": [
      "Dictionary after adding a key-value pair: {'name': 'John', 'age': 25, 'city': 'New York', 'email': 'john@example.com'}\n"
     ]
    }
   ],
   "source": [
    "# Adding a key-value pair to the dictionary\n",
    "my_dict['email'] = 'john@example.com'\n",
    "print(\"Dictionary after adding a key-value pair:\", my_dict)\n",
    "\n"
   ]
  },
  {
   "cell_type": "code",
   "execution_count": 7,
   "id": "3969286d",
   "metadata": {},
   "outputs": [
    {
     "name": "stdout",
     "output_type": "stream",
     "text": [
      "Dictionary after removing a key-value pair: {'name': 'John', 'city': 'New York', 'email': 'john@example.com'}\n"
     ]
    }
   ],
   "source": [
    "# Removing a key-value pair from the dictionary\n",
    "del my_dict['age']\n",
    "print(\"Dictionary after removing a key-value pair:\", my_dict)\n",
    "\n"
   ]
  },
  {
   "cell_type": "code",
   "execution_count": 8,
   "id": "ff3e2513",
   "metadata": {},
   "outputs": [
    {
     "name": "stdout",
     "output_type": "stream",
     "text": [
      "Dictionary after modifying a value: {'name': 'John', 'city': 'Los Angeles', 'email': 'john@example.com'}\n"
     ]
    }
   ],
   "source": [
    "# Modifying a value in the dictionary\n",
    "my_dict['city'] = 'Los Angeles'\n",
    "print(\"Dictionary after modifying a value:\", my_dict)\n",
    "\n",
    "\n"
   ]
  },
  {
   "cell_type": "code",
   "execution_count": 9,
   "id": "a309e9df",
   "metadata": {},
   "outputs": [
    {
     "name": "stdout",
     "output_type": "stream",
     "text": [
      "\n",
      "Original Set: {1, 2, 3, 4, 5}\n"
     ]
    }
   ],
   "source": [
    "# Creating a Set\n",
    "my_set = {1, 2, 3, 4, 5}\n",
    "print(\"\\nOriginal Set:\", my_set)\n",
    "\n"
   ]
  },
  {
   "cell_type": "code",
   "execution_count": 10,
   "id": "cca79aa2",
   "metadata": {},
   "outputs": [
    {
     "name": "stdout",
     "output_type": "stream",
     "text": [
      "Set after adding an element: {1, 2, 3, 4, 5, 6}\n"
     ]
    }
   ],
   "source": [
    "# Adding an element to the set\n",
    "my_set.add(6)\n",
    "print(\"Set after adding an element:\", my_set)\n",
    "\n"
   ]
  },
  {
   "cell_type": "code",
   "execution_count": 11,
   "id": "0848507f",
   "metadata": {},
   "outputs": [
    {
     "name": "stdout",
     "output_type": "stream",
     "text": [
      "Set after removing an element: {1, 2, 4, 5, 6}\n"
     ]
    }
   ],
   "source": [
    "# Removing an element from the set\n",
    "my_set.remove(3)\n",
    "print(\"Set after removing an element:\", my_set)\n",
    "\n"
   ]
  },
  {
   "cell_type": "code",
   "execution_count": 12,
   "id": "5a7cf8ec",
   "metadata": {},
   "outputs": [
    {
     "name": "stdout",
     "output_type": "stream",
     "text": [
      "Set after attempting to add a duplicate element: {1, 2, 4, 5, 6}\n"
     ]
    }
   ],
   "source": [
    "# Attempting to add a duplicate element (no effect)\n",
    "my_set.add(4)\n",
    "print(\"Set after attempting to add a duplicate element:\", my_set)\n"
   ]
  },
  {
   "cell_type": "code",
   "execution_count": null,
   "id": "65f2c08d",
   "metadata": {},
   "outputs": [],
   "source": []
  },
  {
   "cell_type": "code",
   "execution_count": null,
   "id": "65a2726f",
   "metadata": {},
   "outputs": [],
   "source": []
  },
  {
   "cell_type": "code",
   "execution_count": null,
   "id": "82a132d6",
   "metadata": {},
   "outputs": [],
   "source": []
  },
  {
   "cell_type": "code",
   "execution_count": null,
   "id": "f45a3c97",
   "metadata": {},
   "outputs": [],
   "source": []
  },
  {
   "cell_type": "code",
   "execution_count": null,
   "id": "0383e386",
   "metadata": {},
   "outputs": [],
   "source": []
  },
  {
   "cell_type": "code",
   "execution_count": null,
   "id": "e06ad6d0",
   "metadata": {},
   "outputs": [],
   "source": []
  },
  {
   "cell_type": "code",
   "execution_count": null,
   "id": "d57d4f26",
   "metadata": {},
   "outputs": [],
   "source": []
  },
  {
   "cell_type": "code",
   "execution_count": null,
   "id": "9890930d",
   "metadata": {},
   "outputs": [],
   "source": []
  },
  {
   "cell_type": "code",
   "execution_count": null,
   "id": "e7af9142",
   "metadata": {},
   "outputs": [],
   "source": []
  }
 ],
 "metadata": {
  "kernelspec": {
   "display_name": "Python 3 (ipykernel)",
   "language": "python",
   "name": "python3"
  },
  "language_info": {
   "codemirror_mode": {
    "name": "ipython",
    "version": 3
   },
   "file_extension": ".py",
   "mimetype": "text/x-python",
   "name": "python",
   "nbconvert_exporter": "python",
   "pygments_lexer": "ipython3",
   "version": "3.11.5"
  }
 },
 "nbformat": 4,
 "nbformat_minor": 5
}
